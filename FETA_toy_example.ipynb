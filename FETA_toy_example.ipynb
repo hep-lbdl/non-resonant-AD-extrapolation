{
 "cells": [
  {
   "cell_type": "code",
   "execution_count": 1,
   "id": "48d41f3a",
   "metadata": {},
   "outputs": [],
   "source": [
    "# imports\n",
    "\n",
    "import numpy as np\n",
    "import matplotlib.pyplot as plt\n",
    "import torch\n",
    "import os\n",
    "import wandb\n",
    "\n",
    "import pytorch_lightning as pl\n",
    "from pytorch_lightning.callbacks import ModelCheckpoint, RichProgressBar\n",
    "from pytorch_lightning.callbacks.progress.rich_progress import RichProgressBarTheme\n",
    "from pytorch_lightning.loggers import WandbLogger\n",
    "\n",
    "from helpers.datasets import *\n",
    "from helpers.models import *\n",
    "\n",
    "from datetime import date"
   ]
  },
  {
   "cell_type": "code",
   "execution_count": 2,
   "id": "b537743b",
   "metadata": {},
   "outputs": [],
   "source": [
    "wandb_logger = WandbLogger(project=\"Feta-toy-example\")\n",
    "SEED = 8\n",
    "DATE = date.today()"
   ]
  },
  {
   "cell_type": "code",
   "execution_count": 3,
   "id": "234a81eb",
   "metadata": {},
   "outputs": [
    {
     "name": "stdout",
     "output_type": "stream",
     "text": [
      "cuda available: True\n"
     ]
    }
   ],
   "source": [
    "os.environ[\"CUDA_VISIBLE_DEVICES\"] = \"2\" # pick a number < 4 \n",
    "# selecting appropriate device\n",
    "CUDA = torch.cuda.is_available()\n",
    "print(\"cuda available:\", CUDA)\n",
    "device = torch.device(\"cuda\" if CUDA else \"cpu\")"
   ]
  },
  {
   "cell_type": "code",
   "execution_count": 7,
   "id": "555c5205",
   "metadata": {},
   "outputs": [
    {
     "data": {
      "image/png": "[encoded data removed]",
      "text/plain": [
       "<Figure size 864x216 with 4 Axes>"
      ]
     },
     "metadata": {
      "needs_background": "light"
     },
     "output_type": "display_data"
    }
   ],
   "source": [
    "# Dataset\n",
    "\n",
    "dim_data = int(4)\n",
    "dim_context = int(1)\n",
    "num_train = int(1e6)\n",
    "num_val = int(1e5)\n",
    "\n",
    "my_data = ToyDataModuleLit(dim_data, dim_context, num_train, num_val)\n",
    "\n",
    "fig, ax = plt.subplots(1, 4, figsize = (12, 3))\n",
    "for i in range(4):\n",
    "    ax[i].hist(my_data.train_data[:,i], histtype = \"step\", density = True)\n",
    "    \n",
    "fig.show()"
   ]
  },
  {
   "cell_type": "code",
   "execution_count": 10,
   "id": "6a70cfe8",
   "metadata": {},
   "outputs": [],
   "source": [
    "# flow model\n",
    "\n",
    "flow_args = {\"num_layers\":2, \"num_nodes\": 32, \"num_blocks\":10, \"num_bins\":8}\n",
    "lr = 1e-3\n",
    "wd = 1e-3\n",
    "\n",
    "my_flow = BaseDensityLit(dim_data, dim_context, flow_args, lr, wd)\n"
   ]
  },
  {
   "cell_type": "code",
   "execution_count": 14,
   "id": "cfbfa860",
   "metadata": {},
   "outputs": [],
   "source": [
    "# checkpoints and process bar\n",
    "\n",
    "checkpoint_callback = ModelCheckpoint(\n",
    "    monitor=\"val_loss\",\n",
    "    dirpath=\"checkpoints/{}/{}/\".format(DATE, SEED),\n",
    "    filename=\"hhh\".format(DATE.today())\n",
    "    + \"{epoch:02d}-{val_loss:.2f}\",\n",
    "    save_top_k=3,\n",
    ")\n",
    "\n",
    "\n",
    "progress_bar = RichProgressBar(\n",
    "    theme=RichProgressBarTheme(\n",
    "        description=\"pretty_pink\",\n",
    "        progress_bar=\"#ffa3f0\",\n",
    "        progress_bar_finished=\"#eb15c7\",\n",
    "        progress_bar_pulse=\"##520545\",\n",
    "        batch_progress=\"pretty_pink\",\n",
    "        time=\"grey82\",\n",
    "        processing_speed=\"grey82\",\n",
    "        metrics=\"grey82\",\n",
    "    )\n",
    ")\n",
    "\n"
   ]
  },
  {
   "cell_type": "code",
   "execution_count": null,
   "id": "abd2fbd0",
   "metadata": {},
   "outputs": [
    {
     "name": "stderr",
     "output_type": "stream",
     "text": [
      "Global seed set to 8\n",
      "GPU available: True, used: True\n",
      "TPU available: False, using: 0 TPU cores\n",
      "IPU available: False, using: 0 IPUs\n",
      "/global/home/users/rrmastandrea/computingML2/lib64/python3.6/site-packages/pytorch_lightning/core/datamodule.py:470: LightningDeprecationWarning: DataModule.setup has already been called, so it will not be called again. In v1.6 this behavior will change to always call DataModule.setup.\n",
      "  f\"DataModule.{name} has already been called, so it will not be called again. \"\n",
      "LOCAL_RANK: 0 - CUDA_VISIBLE_DEVICES: [2]\n"
     ]
    },
    {
     "data": {
      "text/html": [
       "<pre style=\"white-space:pre;overflow-x:auto;line-height:normal;font-family:Menlo,'DejaVu Sans Mono',consolas,'Courier New',monospace\">┏━━━┳━━━━━━━━━━━┳━━━━━━━━━━━━━━━━━━━━┳━━━━━━━━┓\n",
       "┃<span style=\"color: #800080; text-decoration-color: #800080; font-weight: bold\">   </span>┃<span style=\"color: #800080; text-decoration-color: #800080; font-weight: bold\"> Name      </span>┃<span style=\"color: #800080; text-decoration-color: #800080; font-weight: bold\"> Type               </span>┃<span style=\"color: #800080; text-decoration-color: #800080; font-weight: bold\"> Params </span>┃\n",
       "┡━━━╇━━━━━━━━━━━╇━━━━━━━━━━━━━━━━━━━━╇━━━━━━━━┩\n",
       "│<span style=\"color: #7f7f7f; text-decoration-color: #7f7f7f\"> 0 </span>│ base_dist │ StandardNormal     │      0 │\n",
       "│<span style=\"color: #7f7f7f; text-decoration-color: #7f7f7f\"> 1 </span>│ transform │ CompositeTransform │ 50.0 K │\n",
       "│<span style=\"color: #7f7f7f; text-decoration-color: #7f7f7f\"> 2 </span>│ flow      │ Flow               │ 50.0 K │\n",
       "└───┴───────────┴────────────────────┴────────┘\n",
       "</pre>\n"
      ],
      "text/plain": [
       "┏━━━┳━━━━━━━━━━━┳━━━━━━━━━━━━━━━━━━━━┳━━━━━━━━┓\n",
       "┃\u001b[1;35m \u001b[0m\u001b[1;35m \u001b[0m\u001b[1;35m \u001b[0m┃\u001b[1;35m \u001b[0m\u001b[1;35mName     \u001b[0m\u001b[1;35m \u001b[0m┃\u001b[1;35m \u001b[0m\u001b[1;35mType              \u001b[0m\u001b[1;35m \u001b[0m┃\u001b[1;35m \u001b[0m\u001b[1;35mParams\u001b[0m\u001b[1;35m \u001b[0m┃\n",
       "┡━━━╇━━━━━━━━━━━╇━━━━━━━━━━━━━━━━━━━━╇━━━━━━━━┩\n",
       "│\u001b[2m \u001b[0m\u001b[2m0\u001b[0m\u001b[2m \u001b[0m│ base_dist │ StandardNormal     │      0 │\n",
       "│\u001b[2m \u001b[0m\u001b[2m1\u001b[0m\u001b[2m \u001b[0m│ transform │ CompositeTransform │ 50.0 K │\n",
       "│\u001b[2m \u001b[0m\u001b[2m2\u001b[0m\u001b[2m \u001b[0m│ flow      │ Flow               │ 50.0 K │\n",
       "└───┴───────────┴────────────────────┴────────┘\n"
      ]
     },
     "metadata": {},
     "output_type": "display_data"
    },
    {
     "data": {
      "text/html": [
       "<pre style=\"white-space:pre;overflow-x:auto;line-height:normal;font-family:Menlo,'DejaVu Sans Mono',consolas,'Courier New',monospace\"><span style=\"font-weight: bold\">Trainable params</span>: 50.0 K                                                                                           \n",
       "<span style=\"font-weight: bold\">Non-trainable params</span>: 0                                                                                            \n",
       "<span style=\"font-weight: bold\">Total params</span>: 50.0 K                                                                                               \n",
       "<span style=\"font-weight: bold\">Total estimated model params size (MB)</span>: 0                                                                          \n",
       "</pre>\n"
      ],
      "text/plain": [
       "\u001b[1mTrainable params\u001b[0m: 50.0 K                                                                                           \n",
       "\u001b[1mNon-trainable params\u001b[0m: 0                                                                                            \n",
       "\u001b[1mTotal params\u001b[0m: 50.0 K                                                                                               \n",
       "\u001b[1mTotal estimated model params size (MB)\u001b[0m: 0                                                                          \n"
      ]
     },
     "metadata": {},
     "output_type": "display_data"
    },
    {
     "data": {
      "application/vnd.jupyter.widget-view+json": {
       "model_id": "b92832bad2da44109119dc3cf596d53b",
       "version_major": 2,
       "version_minor": 0
      },
      "text/plain": [
       "Output()"
      ]
     },
     "metadata": {},
     "output_type": "display_data"
    },
    {
     "name": "stderr",
     "output_type": "stream",
     "text": [
      "Global seed set to 8\n"
     ]
    }
   ],
   "source": [
    "# train\n",
    "\n",
    "pl.seed_everything(SEED, workers=True)\n",
    "trainer = pl.Trainer(limit_train_batches = 100, max_epochs=10, logger = wandb_logger, gpus = 1,\n",
    "                      callbacks=[checkpoint_callback, progress_bar])\n",
    "                    #accelerator=\"gpu\", devices=2, strategy=\"ddp\")\n",
    "trainer.fit(my_flow, my_data)"
   ]
  },
  {
   "cell_type": "code",
   "execution_count": null,
   "id": "85d6e404",
   "metadata": {},
   "outputs": [],
   "source": [
    "# check training\n",
    "\n",
    "with torch.no_grad():\n",
    "    outputs, logabsdet = my_flow.flow._transform.inverse(torch.tensor((my_data.valid_data).float(), \n",
    "                                                         context=torch.tensor((my_data.valid_context).float())\n",
    "\n",
    "print(type(outputs))\n",
    "outputs = outputs.numpy()\n",
    "\n",
    "fig, ax = plt.subplots(1, 4, figsize = (12, 3))\n",
    "for i in range(4):\n",
    "    ax[i].hist(my_data.valid_data[:,i], histyype = \"step\")\n",
    "    ax[i].hist(outputs[:,i], histyype = \"step\")\n",
    "    \n",
    "fig.show()"
   ]
  },
  {
   "cell_type": "code",
   "execution_count": null,
   "id": "ccd82486",
   "metadata": {},
   "outputs": [],
   "source": []
  },
  {
   "cell_type": "code",
   "execution_count": null,
   "id": "b93492b7",
   "metadata": {},
   "outputs": [],
   "source": []
  },
  {
   "cell_type": "code",
   "execution_count": null,
   "id": "ae3fef2f",
   "metadata": {},
   "outputs": [],
   "source": []
  },
  {
   "cell_type": "code",
   "execution_count": null,
   "id": "72398c95",
   "metadata": {},
   "outputs": [],
   "source": []
  }
 ],
 "metadata": {
  "kernelspec": {
   "display_name": "Python 3",
   "language": "python",
   "name": "python3"
  },
  "language_info": {
   "codemirror_mode": {
    "name": "ipython",
    "version": 3
   },
   "file_extension": ".py",
   "mimetype": "text/x-python",
   "name": "python",
   "nbconvert_exporter": "python",
   "pygments_lexer": "ipython3",
   "version": "3.6.8"
  }
 },
 "nbformat": 4,
 "nbformat_minor": 5
}
