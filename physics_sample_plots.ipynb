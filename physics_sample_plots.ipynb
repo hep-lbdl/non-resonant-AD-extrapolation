{
 "cells": [
  {
   "cell_type": "code",
   "execution_count": 1,
   "id": "65ff1b2b-e07b-4d1c-934d-8b73e898613d",
   "metadata": {
    "tags": []
   },
   "outputs": [],
   "source": [
    "import numpy as np\n",
    "import matplotlib.pyplot as plt\n",
    "import os"
   ]
  },
  {
   "cell_type": "code",
   "execution_count": 2,
   "id": "9d61f8a5-32a6-43d6-afc9-f18c40a73b85",
   "metadata": {
    "tags": []
   },
   "outputs": [],
   "source": [
    "def name_map():\n",
    "    return {\n",
    "        \"m_jj\": \"$m_{{\\\\rm jj}}$\",\n",
    "        \"met\": \"MET\",\n",
    "        \"ht\": \"HT\",\n",
    "        \"pT_j1\": \"Leading jet $p_{{\\\\rm T}}$\",\n",
    "        \"pT_j2\": \"Sub-leading jet $p_{{\\\\rm T}}$\",\n",
    "        \"tau21_j1\": \"Leading jet $\\\\tau_2/\\\\tau_1$\",\n",
    "        \"tau21_j2\": \"Sub-leading jet $\\\\tau_2/\\\\tau_1$\",\n",
    "        \"tau32_j1\": \"Leading jet $\\\\tau_3/\\\\tau_2$\",\n",
    "        \"tau32_j2\": \"Sub-leading jet $\\\\tau_3/\\\\tau_2$\",\n",
    "        \"min_dPhi\": \"min$\\\\Delta\\\\phi(\\\\rm j_i, \\\\rm MET)$\",\n",
    "    }\n",
    "\n",
    "def unit_map():\n",
    "    return {\n",
    "        \"m_jj\": \"(GeV)\",\n",
    "        \"met\": \"(GeV)\",\n",
    "        \"ht\": \"(GeV)\",\n",
    "        \"pT_j1\": \"(GeV)\",\n",
    "        \"pT_j2\": \"(GeV)\",\n",
    "        \"tau21_j1\": \"\",\n",
    "        \"tau21_j2\": \"\",\n",
    "        \"tau32_j1\": \"\",\n",
    "        \"tau32_j2\": \"\",\n",
    "        \"min_dPhi\": \"\",\n",
    "    }\n",
    "\n",
    "\n",
    "def pretty_name_map():\n",
    "    return {\n",
    "        \"m_jj\": \"$m_{jj}$\",\n",
    "        \"met\": \"MET\",\n",
    "        \"ht\": \"$H_T$\",\n",
    "        \"pT_j1\": \"(GeV)\",\n",
    "        \"pT_j2\": \"(GeV)\",\n",
    "        \"tau21_j1\": \"$\\tau_{21}_^{j1}$\",\n",
    "        \"tau21_j2\": \"$\\tau_{21}_^{j2}$\",\n",
    "        \"tau32_j1\": \"$\\tau_{32}_^{j1}$\",\n",
    "        \"tau32_j2\": \"$\\tau_{32}_^{j2}$\",\n",
    "        \"min_dPhi\": \"\",\n",
    "    }\n",
    "\n",
    "def load_samples(file):\n",
    "    samples = np.loadtxt(file, dtype=str)\n",
    "    # Get the names of all varibles\n",
    "    variables = samples[0]\n",
    "    # Get the events ordered by varibles\n",
    "    events = np.asfarray(samples[1:])\n",
    "    return variables, events\n",
    "\n",
    "\n",
    "def sort_event_arr(names, variables, events):\n",
    "    \n",
    "    event_list = []\n",
    "    \n",
    "    for x in names:   \n",
    "        ind_x = ind(variables, x)\n",
    "        event_list.append(events[:, ind_x])\n",
    "    \n",
    "    return np.stack(event_list, axis=1)\n",
    "\n",
    "\n",
    "def get_quality_events(arr):\n",
    "\n",
    "    if np.isnan(arr).any():\n",
    "        return arr[~np.isnan(arr).any(axis=1)]\n",
    "    \n",
    "    else:\n",
    "        return arr\n",
    "    \n",
    "def ind(variables, name):\n",
    "    return np.where(variables == name)[0][0]"
   ]
  },
  {
   "cell_type": "code",
   "execution_count": 3,
   "id": "b95ffb80-403a-494b-8fdc-05625ff35c45",
   "metadata": {
    "tags": []
   },
   "outputs": [],
   "source": [
    "sig_sample = \"/global/cfs/cdirs/m3246/kbai/HV_samples/sig_samples/rinv13_pTmin200GeV.txt\"\n",
    "bkg_dir = \"/global/cfs/cdirs/m3246/kbai/HV_samples/qcd_data_samples/\" "
   ]
  },
  {
   "cell_type": "code",
   "execution_count": 4,
   "id": "13b6f60b-f567-4d89-8cef-85d23cf85259",
   "metadata": {
    "tags": []
   },
   "outputs": [
    {
     "name": "stdout",
     "output_type": "stream",
     "text": [
      "loadging 10 samples...\n"
     ]
    }
   ],
   "source": [
    "# define sample size as the number of files\n",
    "sample_size = 10\n",
    "print(f\"loadging {sample_size} samples...\")\n",
    "\n",
    "# load signal first\n",
    "var_names = [\"ht\", \"met\", \"m_jj\", \"tau21_j1\", \"tau21_j2\", \"tau32_j1\", \"tau32_j2\"]\n",
    "variables, sig = load_samples(sig_sample)\n",
    "sig = get_quality_events(sig)\n",
    "sig_events = sort_event_arr(var_names, variables, sig)"
   ]
  },
  {
   "cell_type": "code",
   "execution_count": 5,
   "id": "f78ba07b-df07-4cbb-9e33-ac0cfb1cbeae",
   "metadata": {
    "tags": []
   },
   "outputs": [],
   "source": [
    "bkg_events_list = []\n",
    "ideal_bkg_events_list = []\n",
    "mc_events_list = []\n",
    "\n",
    "for i in range(sample_size):\n",
    "\n",
    "    bkg_path = f\"{bkg_dir}/qcd_{i}.txt\"\n",
    "\n",
    "    if os.path.isfile(bkg_path):\n",
    "\n",
    "        # Load input events ordered by varibles\n",
    "        _, bkg_i = load_samples(bkg_path)\n",
    "        bkg_i = get_quality_events(bkg_i)\n",
    "        bkg_events_list.append(sort_event_arr(var_names, variables, bkg_i))\n",
    "\n",
    "if len(bkg_events_list)==0:\n",
    "    print(\"No files loaded.\")"
   ]
  },
  {
   "cell_type": "code",
   "execution_count": 6,
   "id": "75615ea6-7bed-42bb-ab69-6b8c9d06cacb",
   "metadata": {
    "tags": []
   },
   "outputs": [],
   "source": [
    "bkg_events = np.concatenate(bkg_events_list)"
   ]
  },
  {
   "cell_type": "code",
   "execution_count": 45,
   "id": "1a60fd89-4947-4f00-9f3d-4a9312c9212c",
   "metadata": {
    "tags": []
   },
   "outputs": [],
   "source": [
    "def plot_all_variables(sig_list, bkg_list, xlabels, bins_list=[], labels=[\"sig\", \"bkg\"], name=\"sig_vs_bkg\", title=\"\", xlabel=\"x\", outdir=\"./\", *args, **kwargs):\n",
    "    csig = 'coral'\n",
    "    cbkg = 'lightblue'\n",
    "\n",
    "    N = len(sig_list)\n",
    "    \n",
    "    if N==len(xlabels):\n",
    "        fig, ax1 = plt.subplots(1, N, figsize=(5*N,5))\n",
    "        \n",
    "        ax1[0].set_ylabel(\"a.u.\", fontsize = 20)\n",
    "        for i in range(N):\n",
    "            #if len(bins_list)==0:\n",
    "            #    xmax = np.max(np.hstack([bkg_list[i], sig_list[i]]))\n",
    "            #    bins = np.linspace(0, xmax, 50)\n",
    "            #else:\n",
    "            bins = bins_list[i]\n",
    "            ax1[i].hist(sig_list[i], bins = bins, density = True, histtype='step', ls= \"-\", color=csig, label=labels[0], lw=2)\n",
    "            ax1[i].hist(bkg_list[i], bins = bins, density = True, histtype='stepfilled', ls= \"-\", color=cbkg, alpha=1, label=labels[1])\n",
    "            ax1[i].set_xlabel(xlabels[i], fontsize = 20)\n",
    "            ax1[i].set_yticks([])\n",
    "            if i == 0:\n",
    "                ax1[i].legend(fontsize = 16)\n",
    "        plt.subplots_adjust(wspace=.0, hspace=0)\n",
    "        plot_name = f\"{outdir}/{name}.pdf\"\n",
    "        plt.savefig(plot_name.replace(\" \", \"_\"))\n",
    "        plt.show\n",
    "        #plt.title(title)\n",
    "        \n",
    "        \n",
    "        plt.close\n",
    "    else:\n",
    "        print(\"Wrong input lists!\")"
   ]
  },
  {
   "cell_type": "code",
   "execution_count": 33,
   "id": "d014fe48-ea01-4d74-8c42-ade50faf16a9",
   "metadata": {
    "tags": []
   },
   "outputs": [],
   "source": [
    "names = name_map()\n",
    "units = unit_map()\n",
    "\n",
    "bins_list = []\n",
    "xlabel_list = []\n",
    "\n",
    "n_bins = 40\n",
    "for x in var_names:\n",
    "    \n",
    "    xlabel_list.append(f\"{names[x]} {units[x]}\")\n",
    "\n",
    "    if \"tau\" in x:\n",
    "        bins = np.linspace(0, 1, n_bins)\n",
    "    elif x==\"met\":\n",
    "        bins = np.linspace(0, 600, n_bins)\n",
    "    elif x==\"ht\":\n",
    "        bins = np.linspace(0, 4000, n_bins)\n",
    "    elif x==\"m_jj\":\n",
    "        bins = np.linspace(0, 4000, n_bins)\n",
    "    \n",
    "    bins_list.append(bins)"
   ]
  },
  {
   "cell_type": "code",
   "execution_count": 46,
   "id": "7d8e764b-10df-44f6-963a-96e29b0a5438",
   "metadata": {
    "tags": []
   },
   "outputs": [
    {
     "data": {
      "image/png": "[encoded data removed]",
      "text/plain": [
       "<Figure size 720x360 with 2 Axes>"
      ]
     },
     "metadata": {
      "needs_background": "light"
     },
     "output_type": "display_data"
    }
   ],
   "source": [
    "# Plot context varibles\n",
    "sig_list = sig_events[:, :2].T\n",
    "bkg_list = bkg_events[:, :2].T\n",
    "xlabels = xlabel_list[:2]\n",
    "bins = bins_list[:2]\n",
    "labels=[r\"$Z' \\to jj$, $r_{\\rm inv} = 1/3$\", \"QCD dijet\"]\n",
    "\n",
    "# Signal vs background\n",
    "plot_kwargs = {\"bins_list\":bins, \"name\":f\"sig_vs_bkg_cont\", \"labels\":labels, \"title\":\"Signal vs background in SR\"}\n",
    "plot_all_variables(sig_list, bkg_list, xlabels, **plot_kwargs)"
   ]
  },
  {
   "cell_type": "code",
   "execution_count": 47,
   "id": "a005dd09-dec0-4a02-84ad-109c0d4de3a0",
   "metadata": {
    "tags": []
   },
   "outputs": [
    {
     "data": {
      "image/png": "[encoded data removed]",
      "text/plain": [
       "<Figure size 1800x360 with 5 Axes>"
      ]
     },
     "metadata": {
      "needs_background": "light"
     },
     "output_type": "display_data"
    }
   ],
   "source": [
    "# Plot context varibles\n",
    "sig_list = sig_events[:, 2:].T\n",
    "bkg_list = bkg_events[:, 2:].T\n",
    "xlabels = xlabel_list[2:]\n",
    "bins = bins_list[2:]\n",
    "labels=[r\"$Z' \\to jj$, $r_{\\rm inv} = 1/3$\", \"QCD dijet\"]\n",
    "\n",
    "# Signal vs background\n",
    "plot_kwargs = {\"bins_list\":bins, \"name\":f\"sig_vs_bkg_feat\", \"labels\":labels, \"title\":\"Signal vs background in SR\"}\n",
    "plot_all_variables(sig_list, bkg_list, xlabels, **plot_kwargs)"
   ]
  },
  {
   "cell_type": "code",
   "execution_count": null,
   "id": "90e39f02-bc60-4046-b47f-18e1766834e8",
   "metadata": {},
   "outputs": [],
   "source": []
  },
  {
   "cell_type": "code",
   "execution_count": null,
   "id": "03e85aee-5884-4a93-9f73-f8c917a2f87f",
   "metadata": {},
   "outputs": [],
   "source": []
  },
  {
   "cell_type": "code",
   "execution_count": null,
   "id": "3e2ad911-2696-4c3f-b4ed-94c122575ff0",
   "metadata": {},
   "outputs": [],
   "source": []
  },
  {
   "cell_type": "code",
   "execution_count": null,
   "id": "0c777b7a-9285-4402-8a8a-f095fc58f05e",
   "metadata": {},
   "outputs": [],
   "source": []
  },
  {
   "cell_type": "code",
   "execution_count": null,
   "id": "4acfb6d7-8843-4134-a614-eba77a653975",
   "metadata": {},
   "outputs": [],
   "source": []
  }
 ],
 "metadata": {
  "kernelspec": {
   "display_name": "Python 3 (ipykernel)",
   "language": "python",
   "name": "python3"
  },
  "language_info": {
   "codemirror_mode": {
    "name": "ipython",
    "version": 3
   },
   "file_extension": ".py",
   "mimetype": "text/x-python",
   "name": "python",
   "nbconvert_exporter": "python",
   "pygments_lexer": "ipython3",
   "version": "3.8.5"
  }
 },
 "nbformat": 4,
 "nbformat_minor": 5
}
