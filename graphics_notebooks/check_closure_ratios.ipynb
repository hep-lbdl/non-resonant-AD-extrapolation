{
 "cells": [
  {
   "cell_type": "code",
   "execution_count": 1,
   "id": "a16e2713-2556-4f28-9ccc-94d7c1b72ded",
   "metadata": {
    "tags": []
   },
   "outputs": [],
   "source": [
    "import numpy as np\n",
    "import matplotlib.pyplot as plt"
   ]
  },
  {
   "cell_type": "code",
   "execution_count": 2,
   "id": "6b54efba-cb7f-481a-8206-204e3e6c78b5",
   "metadata": {},
   "outputs": [],
   "source": [
    "path_to_working_dir = \"/global/cfs/cdirs/m3246/rmastand/bkg_extrap/redo/\"\n",
    "gen_seed = 1\n",
    "n_context = 2\n",
    "\n",
    "static_data_dir = f\"{path_to_working_dir}/data/\"\n",
    "seeded_data_dir = f\"{path_to_working_dir}/data/seed{gen_seed}/\"\n",
    "samples_dir = f\"{path_to_working_dir}/samples/seed{gen_seed}/\"\n",
    "eval_dir = f\"{path_to_working_dir}/evaluation/seed{gen_seed}/\""
   ]
  },
  {
   "cell_type": "markdown",
   "id": "d0554b29-30e5-4d40-839f-f938cad67923",
   "metadata": {},
   "source": [
    "### CR closure"
   ]
  },
  {
   "cell_type": "code",
   "execution_count": 3,
   "id": "cbcbe646-aef7-4fa1-8871-0e443f5cc39f",
   "metadata": {},
   "outputs": [],
   "source": [
    "keys_to_plot = [\"Ideal\"]\n",
    "\n",
    "samples_cr_dict = {}\n",
    "weights_cr_dict = {}\n",
    "\n",
    "samples_sr_dict = {}\n",
    "weights_sr_dict = {}\n",
    "\n",
    "samples_cr_dict[\"truth\"] = np.load(f\"{seeded_data_dir}/data_0.npz\")[\"data_events_cr\"][:10000,n_context:]\n",
    "weights_cr_dict[\"truth\"] = None\n",
    "samples_sr_dict[\"truth\"] = np.load(f\"{seeded_data_dir}/data_0.npz\")[\"data_events_sr\"][:10000,n_context:]\n",
    "weights_sr_dict[\"truth\"] = None\n",
    "\n",
    "if \"Ideal\" in keys_to_plot:\n",
    "    samples_cr_dict[\"Ideal\"] = np.load(f\"{static_data_dir}/ideal_bkg_events.npz\")[\"ideal_bkg_events_cr\"][:10000,n_context:]\n",
    "    weights_cr_dict[\"Ideal\"] = None\n",
    "    samples_sr_dict[\"Ideal\"] = np.load(f\"{static_data_dir}/ideal_bkg_events.npz\")[\"ideal_bkg_events_sr\"][:10000,n_context:]\n",
    "    weights_sr_dict[\"Ideal\"] = None\n",
    "\n",
    "if \"Reweight\" in keys_to_plot:\n",
    "    samples_cr_dict[\"Reweight\"] = np.load(f\"{samples_dir}/reweight_CR_closure_s0.npz\")[\"mc_cr\"][:,n_context:]\n",
    "    weights_cr_dict[\"Reweight\"] = np.load(f\"{samples_dir}/reweight_CR_closure_s0.npz\")[\"w_cr\"]\n",
    "    samples_sr_dict[\"Reweight\"] = np.load(f\"{samples_dir}/reweight_SR_s0.npz\")[\"mc_samples\"][:,n_context:]\n",
    "    weights_sr_dict[\"Reweight\"] = np.load(f\"{samples_dir}/reweight_SR_s0.npz\")[\"w_sr\"]\n",
    "    \n",
    "if \"Generate\" in keys_to_plot:\n",
    "    samples_cr_dict[\"Generate\"] = np.load(f\"{samples_dir}/generate_CR_closure_s0.npz\")[\"generate_cr\"][:]\n",
    "    print(samples_cr_dict[\"Generate\"].shape)\n",
    "    weights_cr_dict[\"Generate\"] = None # No weights here -- cr is sampled using data\n",
    "    samples_sr_dict[\"Generate\"] = np.load(f\"{samples_dir}/generate_SR_s0.npz\")[\"samples\"][:,n_context:]\n",
    "    weights_sr_dict[\"Generate\"] = np.load(f\"{samples_dir}/context_weights_SR_s0.npz\")[\"w_sr\"]\n",
    "    \n",
    "if \"Morph\" in keys_to_plot:\n",
    "    samples_cr_dict[\"Morph\"] = np.load(f\"{samples_dir}/morph_CR_closure_s0.npz\")[\"morph_cr\"][:,n_context:]\n",
    "    weights_cr_dict[\"Morph\"] = np.load(f\"{samples_dir}/context_weights_CR_closure_s0.npz\")[\"w_cr\"]\n",
    "    samples_sr_dict[\"Morph\"] = np.load(f\"{samples_dir}/morph_SR_s0.npz\")[\"samples\"][:,n_context:]\n",
    "    weights_sr_dict[\"Morph\"] = np.load(f\"{samples_dir}/context_weights_SR_s0.npz\")[\"w_sr\"]\n"
   ]
  },
  {
   "cell_type": "code",
   "execution_count": 4,
   "id": "b2c98dcf-ef50-4773-865f-c9adb83f4aba",
   "metadata": {
    "tags": []
   },
   "outputs": [],
   "source": [
    "def name_map():\n",
    "    return {\n",
    "        \"m_jj\": \"$m_{{\\\\rm jj}}$\",\n",
    "        \"met\": \"MET\",\n",
    "        \"ht\": \"HT\",\n",
    "        \"pT_j1\": \"Leading jet $p_{{\\\\rm T}}$\",\n",
    "        \"pT_j2\": \"Sub-leading jet $p_{{\\\\rm T}}$\",\n",
    "        \"tau21_j1\": \"Leading jet $\\\\tau_2/\\\\tau_1$\",\n",
    "        \"tau21_j2\": \"Sub-leading jet $\\\\tau_2/\\\\tau_1$\",\n",
    "        \"tau32_j1\": \"Leading jet $\\\\tau_3/\\\\tau_2$\",\n",
    "        \"tau32_j2\": \"Sub-leading jet $\\\\tau_3/\\\\tau_2$\",\n",
    "        \"min_dPhi\": \"min$\\\\Delta\\\\phi(\\\\rm j_i, \\\\rm MET)$\",\n",
    "    }\n",
    "\n",
    "var_names = [\"m_jj\", \"tau21_j1\", \"tau21_j2\", \"tau32_j1\", \"tau32_j2\"]\n",
    "names = name_map()\n",
    "\n",
    "xlabel_list = [] \n",
    "for x in var_names:\n",
    "    xlabel_list.append(f\"{names[x]}\")\n",
    "\n",
    "colors_dict = {\"fullsup\":\"grey\",\n",
    "               \"Reweight\": \"forestgreen\",\n",
    "               \"Morph\": \"mediumvioletred\",\n",
    "               \"Generate\":\"darkgoldenrod\",\n",
    "                \"Ideal\":\"darkblue\",\n",
    "                \"truth\":\"lightblue\"}\n",
    "\n",
    "bins = np.linspace(-2.5, 2.5, 30)\n",
    "bin_centers = 0.5*(bins[1:] + bins[:-1] )\n",
    "\n",
    "f1 = 24\n",
    "f2 = 20\n",
    "\n",
    "n_features = 5"
   ]
  },
  {
   "cell_type": "markdown",
   "id": "ad334021-1b56-40e8-8e10-39778c4d9d8d",
   "metadata": {},
   "source": [
    "## Plot CR Closure"
   ]
  },
  {
   "cell_type": "code",
   "execution_count": 5,
   "id": "8220ae5c-432f-4d05-9525-f0cee2d15550",
   "metadata": {
    "tags": []
   },
   "outputs": [
    {
     "data": {
      "image/png": "[encoded data removed]",
      "text/plain": [
       "<Figure size 1800x360 with 10 Axes>"
      ]
     },
     "metadata": {
      "needs_background": "light"
     },
     "output_type": "display_data"
    }
   ],
   "source": [
    "# features\n",
    "np.seterr(divide='ignore', invalid='ignore')\n",
    "\n",
    "fig, ax = plt.subplots(2, n_features, figsize = (5*n_features, 1*n_features), height_ratios=[2, 1])\n",
    "\n",
    "for i in range(n_features):\n",
    "    \n",
    "    # hist\n",
    "    truth_density , _,_ = ax[0,i].hist(samples_cr_dict[\"truth\"][:,i], color = colors_dict[\"truth\"], bins = bins, label = \"Truth (bkg)\", density = True)\n",
    "    hist_denom, _ = np.histogram(samples_cr_dict[\"truth\"][:,i], bins = bins, density = False)\n",
    "    errors_denom = np.sqrt(hist_denom)\n",
    "    ax[0,i].set_xlim(-2.5, 2.5)\n",
    "    \n",
    "    for k in keys_to_plot:\n",
    "        \n",
    "\n",
    "        loc_density, _ ,_ = ax[0,i].hist(samples_cr_dict[k][:,i], bins = bins, label = k, histtype = \"step\", density = True, color = colors_dict[k], lw = 2, weights = weights_cr_dict[k])\n",
    "        loc_hist, _ = np.histogram(samples_cr_dict[k][:,i], bins = bins, density = False, weights = weights_cr_dict[k])\n",
    "\n",
    "        \n",
    "        loc_errors = np.sqrt(loc_hist)\n",
    "        loc_ratio = loc_hist/hist_denom\n",
    "        loc_errors_ratio = np.sqrt ( (errors_denom/hist_denom)**2 + (loc_errors/loc_hist)**2 ) * loc_ratio\n",
    "        ax[1,i].errorbar(bin_centers, loc_ratio, yerr = loc_errors_ratio, linestyle = \"\", color = colors_dict[k], capsize = 2)\n",
    "\n",
    "    ax[1,i].set_xlabel(xlabel_list[i], fontsize = f1)\n",
    "    ax[1,i].axhline(1, color = \"black\", linestyle = \"dashed\")\n",
    "    ax[1,i].set_xlim(-2.5, 2.5)\n",
    "    \n",
    "    ax[1,i].set_xticks(np.arange(-2, 3, 1))\n",
    "    ax[1,i].set_ylim(0, 2)\n",
    "    \n",
    "    \n",
    "ax[0,0].set_ylabel(\"a.u.\", fontsize = f1, labelpad = 50)\n",
    "ax[0,0].set_yticks([])\n",
    "ax[1,0].set_ylabel(\"Ratio to \\ntruth\", fontsize = f1)\n",
    "\n",
    "for i in range(1, n_features):\n",
    "    ax[0,i].set_yticks([])\n",
    "    ax[1,i].set_yticks([])\n",
    "\n",
    "\n",
    "ax[0,0].legend(frameon = False, fontsize = f2) \n",
    "\n",
    "\n",
    "plt.subplots_adjust(wspace = 0, hspace = 0)\n",
    "plt.savefig(\"../plots/physics_features_ratios_CR.pdf\")\n",
    "plt.show()\n",
    "\n"
   ]
  },
  {
   "cell_type": "markdown",
   "id": "2e65c800-bfbe-4cb3-9f76-bbce439da217",
   "metadata": {},
   "source": [
    "## Plot SR closure"
   ]
  },
  {
   "cell_type": "code",
   "execution_count": 6,
   "id": "46716bf6-e970-4002-baf0-536cd5ecdae6",
   "metadata": {},
   "outputs": [
    {
     "data": {
      "image/png": "[encoded data removed]",
      "text/plain": [
       "<Figure size 1800x360 with 10 Axes>"
      ]
     },
     "metadata": {
      "needs_background": "light"
     },
     "output_type": "display_data"
    }
   ],
   "source": [
    "# features\n",
    "np.seterr(divide='ignore', invalid='ignore')\n",
    "\n",
    "fig, ax = plt.subplots(2, n_features, figsize = (5*n_features, 1*n_features), height_ratios=[2, 1])\n",
    "\n",
    "for i in range(n_features):\n",
    "    \n",
    "    # hist\n",
    "    truth_density , _,_ = ax[0,i].hist(samples_sr_dict[\"truth\"][:,i], color = colors_dict[\"truth\"], bins = bins, label = \"Truth (bkg)\", density = True)\n",
    "    hist_denom, _ = np.histogram(samples_sr_dict[\"truth\"][:,i], bins = bins, density = False)\n",
    "    errors_denom = np.sqrt(hist_denom)\n",
    "    ax[0,i].set_xlim(-2.5, 2.5)\n",
    "    \n",
    "    for k in keys_to_plot:\n",
    "        \n",
    "\n",
    "        loc_density, _ ,_ = ax[0,i].hist(samples_sr_dict[k][:,i], bins = bins, label = k, histtype = \"step\", density = True, color = colors_dict[k], lw = 2, weights = weights_sr_dict[k])\n",
    "        loc_hist, _ = np.histogram(samples_sr_dict[k][:,i], bins = bins, density = False, weights = weights_sr_dict[k])\n",
    "\n",
    "        \n",
    "        loc_errors = np.sqrt(loc_hist)\n",
    "        loc_ratio = loc_hist/hist_denom\n",
    "        loc_errors_ratio = np.sqrt ( (errors_denom/hist_denom)**2 + (loc_errors/loc_hist)**2 ) * loc_ratio\n",
    "        ax[1,i].errorbar(bin_centers, loc_ratio, yerr = loc_errors_ratio, linestyle = \"\", color = colors_dict[k], capsize = 2)\n",
    "\n",
    "    ax[1,i].set_xlabel(xlabel_list[i], fontsize = f1)\n",
    "    ax[1,i].axhline(1, color = \"black\", linestyle = \"dashed\")\n",
    "    ax[1,i].set_xlim(-2.5, 2.5)\n",
    "    \n",
    "    ax[1,i].set_xticks(np.arange(-2, 3, 1))\n",
    "    ax[1,i].set_ylim(0, 2)\n",
    "    \n",
    "    \n",
    "ax[0,0].set_ylabel(\"a.u.\", fontsize = f1, labelpad = 50)\n",
    "ax[0,0].set_yticks([])\n",
    "ax[1,0].set_ylabel(\"Ratio to \\ntruth\", fontsize = f1)\n",
    "\n",
    "for i in range(1, n_features):\n",
    "    ax[0,i].set_yticks([])\n",
    "    ax[1,i].set_yticks([])\n",
    "\n",
    "\n",
    "ax[0,0].legend(frameon = False, fontsize = f2) \n",
    "\n",
    "\n",
    "plt.subplots_adjust(wspace = 0, hspace = 0)\n",
    "plt.savefig(\"../plots/physics_features_ratios_CR.pdf\")\n",
    "plt.show()\n",
    "\n"
   ]
  },
  {
   "cell_type": "markdown",
   "id": "54e5136f-6511-4176-bae1-bd66b4027bc3",
   "metadata": {},
   "source": [
    "## AUC Spread"
   ]
  },
  {
   "cell_type": "code",
   "execution_count": 11,
   "id": "50688641-2546-450e-88f1-12c734059761",
   "metadata": {},
   "outputs": [
    {
     "ename": "ValueError",
     "evalue": "'yerr' must not contain negative values",
     "output_type": "error",
     "traceback": [
      "\u001b[0;31m---------------------------------------------------------------------------\u001b[0m",
      "\u001b[0;31mValueError\u001b[0m                                Traceback (most recent call last)",
      "\u001b[0;32m/tmp/ipykernel_802150/3430970476.py\u001b[0m in \u001b[0;36m<module>\u001b[0;34m\u001b[0m\n\u001b[1;32m     30\u001b[0m \u001b[0;34m\u001b[0m\u001b[0m\n\u001b[1;32m     31\u001b[0m     \u001b[0;31m# CR\u001b[0m\u001b[0;34m\u001b[0m\u001b[0;34m\u001b[0m\u001b[0;34m\u001b[0m\u001b[0m\n\u001b[0;32m---> 32\u001b[0;31m     \u001b[0mplt\u001b[0m\u001b[0;34m.\u001b[0m\u001b[0merrorbar\u001b[0m\u001b[0;34m(\u001b[0m\u001b[0mcenters\u001b[0m\u001b[0;34m[\u001b[0m\u001b[0mi\u001b[0m\u001b[0;34m]\u001b[0m\u001b[0;34m-\u001b[0m\u001b[0;36m0.2\u001b[0m\u001b[0;34m,\u001b[0m \u001b[0mmed_AUC_cr\u001b[0m\u001b[0;34m[\u001b[0m\u001b[0mk\u001b[0m\u001b[0;34m]\u001b[0m\u001b[0;34m,\u001b[0m \u001b[0myerr\u001b[0m \u001b[0;34m=\u001b[0m \u001b[0mnp\u001b[0m\u001b[0;34m.\u001b[0m\u001b[0marray\u001b[0m\u001b[0;34m(\u001b[0m\u001b[0;34m[\u001b[0m\u001b[0mmed_AUC_cr\u001b[0m\u001b[0;34m[\u001b[0m\u001b[0mk\u001b[0m\u001b[0;34m]\u001b[0m\u001b[0;34m-\u001b[0m\u001b[0mpercentiles_AUC_cr\u001b[0m\u001b[0;34m[\u001b[0m\u001b[0mk\u001b[0m\u001b[0;34m]\u001b[0m\u001b[0;34m[\u001b[0m\u001b[0;36m0\u001b[0m\u001b[0;34m]\u001b[0m\u001b[0;34m,\u001b[0m \u001b[0mpercentiles_AUC_cr\u001b[0m\u001b[0;34m[\u001b[0m\u001b[0mk\u001b[0m\u001b[0;34m]\u001b[0m\u001b[0;34m[\u001b[0m\u001b[0;36m1\u001b[0m\u001b[0;34m]\u001b[0m\u001b[0;34m-\u001b[0m\u001b[0mmed_AUC_cr\u001b[0m\u001b[0;34m[\u001b[0m\u001b[0mk\u001b[0m\u001b[0;34m]\u001b[0m\u001b[0;34m]\u001b[0m\u001b[0;34m)\u001b[0m\u001b[0;34m.\u001b[0m\u001b[0mreshape\u001b[0m\u001b[0;34m(\u001b[0m\u001b[0;36m2\u001b[0m\u001b[0;34m,\u001b[0m\u001b[0;36m1\u001b[0m\u001b[0;34m)\u001b[0m\u001b[0;34m,\u001b[0m \u001b[0mfmt\u001b[0m \u001b[0;34m=\u001b[0m \u001b[0;34m\"s\"\u001b[0m\u001b[0;34m,\u001b[0m \u001b[0mcolor\u001b[0m \u001b[0;34m=\u001b[0m \u001b[0mcolors_dict\u001b[0m\u001b[0;34m[\u001b[0m\u001b[0mk\u001b[0m\u001b[0;34m]\u001b[0m\u001b[0;34m,\u001b[0m \u001b[0mmarkersize\u001b[0m \u001b[0;34m=\u001b[0m \u001b[0mm\u001b[0m\u001b[0;34m,\u001b[0m \u001b[0melinewidth\u001b[0m\u001b[0;34m=\u001b[0m\u001b[0mlw\u001b[0m\u001b[0;34m)\u001b[0m\u001b[0;34m\u001b[0m\u001b[0;34m\u001b[0m\u001b[0m\n\u001b[0m\u001b[1;32m     33\u001b[0m \u001b[0;34m\u001b[0m\u001b[0m\n\u001b[1;32m     34\u001b[0m     \u001b[0;31m# SR\u001b[0m\u001b[0;34m\u001b[0m\u001b[0;34m\u001b[0m\u001b[0;34m\u001b[0m\u001b[0m\n",
      "\u001b[0;32m~/.local/lib/python3.8/site-packages/matplotlib/pyplot.py\u001b[0m in \u001b[0;36merrorbar\u001b[0;34m(x, y, yerr, xerr, fmt, ecolor, elinewidth, capsize, barsabove, lolims, uplims, xlolims, xuplims, errorevery, capthick, data, **kwargs)\u001b[0m\n\u001b[1;32m   2562\u001b[0m         \u001b[0muplims\u001b[0m\u001b[0;34m=\u001b[0m\u001b[0;32mFalse\u001b[0m\u001b[0;34m,\u001b[0m \u001b[0mxlolims\u001b[0m\u001b[0;34m=\u001b[0m\u001b[0;32mFalse\u001b[0m\u001b[0;34m,\u001b[0m \u001b[0mxuplims\u001b[0m\u001b[0;34m=\u001b[0m\u001b[0;32mFalse\u001b[0m\u001b[0;34m,\u001b[0m \u001b[0merrorevery\u001b[0m\u001b[0;34m=\u001b[0m\u001b[0;36m1\u001b[0m\u001b[0;34m,\u001b[0m\u001b[0;34m\u001b[0m\u001b[0;34m\u001b[0m\u001b[0m\n\u001b[1;32m   2563\u001b[0m         capthick=None, *, data=None, **kwargs):\n\u001b[0;32m-> 2564\u001b[0;31m     return gca().errorbar(\n\u001b[0m\u001b[1;32m   2565\u001b[0m         \u001b[0mx\u001b[0m\u001b[0;34m,\u001b[0m \u001b[0my\u001b[0m\u001b[0;34m,\u001b[0m \u001b[0myerr\u001b[0m\u001b[0;34m=\u001b[0m\u001b[0myerr\u001b[0m\u001b[0;34m,\u001b[0m \u001b[0mxerr\u001b[0m\u001b[0;34m=\u001b[0m\u001b[0mxerr\u001b[0m\u001b[0;34m,\u001b[0m \u001b[0mfmt\u001b[0m\u001b[0;34m=\u001b[0m\u001b[0mfmt\u001b[0m\u001b[0;34m,\u001b[0m \u001b[0mecolor\u001b[0m\u001b[0;34m=\u001b[0m\u001b[0mecolor\u001b[0m\u001b[0;34m,\u001b[0m\u001b[0;34m\u001b[0m\u001b[0;34m\u001b[0m\u001b[0m\n\u001b[1;32m   2566\u001b[0m         \u001b[0melinewidth\u001b[0m\u001b[0;34m=\u001b[0m\u001b[0melinewidth\u001b[0m\u001b[0;34m,\u001b[0m \u001b[0mcapsize\u001b[0m\u001b[0;34m=\u001b[0m\u001b[0mcapsize\u001b[0m\u001b[0;34m,\u001b[0m \u001b[0mbarsabove\u001b[0m\u001b[0;34m=\u001b[0m\u001b[0mbarsabove\u001b[0m\u001b[0;34m,\u001b[0m\u001b[0;34m\u001b[0m\u001b[0;34m\u001b[0m\u001b[0m\n",
      "\u001b[0;32m~/.local/lib/python3.8/site-packages/matplotlib/__init__.py\u001b[0m in \u001b[0;36minner\u001b[0;34m(ax, data, *args, **kwargs)\u001b[0m\n\u001b[1;32m   1444\u001b[0m     \u001b[0;32mdef\u001b[0m \u001b[0minner\u001b[0m\u001b[0;34m(\u001b[0m\u001b[0max\u001b[0m\u001b[0;34m,\u001b[0m \u001b[0;34m*\u001b[0m\u001b[0margs\u001b[0m\u001b[0;34m,\u001b[0m \u001b[0mdata\u001b[0m\u001b[0;34m=\u001b[0m\u001b[0;32mNone\u001b[0m\u001b[0;34m,\u001b[0m \u001b[0;34m**\u001b[0m\u001b[0mkwargs\u001b[0m\u001b[0;34m)\u001b[0m\u001b[0;34m:\u001b[0m\u001b[0;34m\u001b[0m\u001b[0;34m\u001b[0m\u001b[0m\n\u001b[1;32m   1445\u001b[0m         \u001b[0;32mif\u001b[0m \u001b[0mdata\u001b[0m \u001b[0;32mis\u001b[0m \u001b[0;32mNone\u001b[0m\u001b[0;34m:\u001b[0m\u001b[0;34m\u001b[0m\u001b[0;34m\u001b[0m\u001b[0m\n\u001b[0;32m-> 1446\u001b[0;31m             \u001b[0;32mreturn\u001b[0m \u001b[0mfunc\u001b[0m\u001b[0;34m(\u001b[0m\u001b[0max\u001b[0m\u001b[0;34m,\u001b[0m \u001b[0;34m*\u001b[0m\u001b[0mmap\u001b[0m\u001b[0;34m(\u001b[0m\u001b[0msanitize_sequence\u001b[0m\u001b[0;34m,\u001b[0m \u001b[0margs\u001b[0m\u001b[0;34m)\u001b[0m\u001b[0;34m,\u001b[0m \u001b[0;34m**\u001b[0m\u001b[0mkwargs\u001b[0m\u001b[0;34m)\u001b[0m\u001b[0;34m\u001b[0m\u001b[0;34m\u001b[0m\u001b[0m\n\u001b[0m\u001b[1;32m   1447\u001b[0m \u001b[0;34m\u001b[0m\u001b[0m\n\u001b[1;32m   1448\u001b[0m         \u001b[0mbound\u001b[0m \u001b[0;34m=\u001b[0m \u001b[0mnew_sig\u001b[0m\u001b[0;34m.\u001b[0m\u001b[0mbind\u001b[0m\u001b[0;34m(\u001b[0m\u001b[0max\u001b[0m\u001b[0;34m,\u001b[0m \u001b[0;34m*\u001b[0m\u001b[0margs\u001b[0m\u001b[0;34m,\u001b[0m \u001b[0;34m**\u001b[0m\u001b[0mkwargs\u001b[0m\u001b[0;34m)\u001b[0m\u001b[0;34m\u001b[0m\u001b[0;34m\u001b[0m\u001b[0m\n",
      "\u001b[0;32m~/.local/lib/python3.8/site-packages/matplotlib/axes/_axes.py\u001b[0m in \u001b[0;36merrorbar\u001b[0;34m(self, x, y, yerr, xerr, fmt, ecolor, elinewidth, capsize, barsabove, lolims, uplims, xlolims, xuplims, errorevery, capthick, **kwargs)\u001b[0m\n\u001b[1;32m   3634\u001b[0m             \u001b[0;32mif\u001b[0m \u001b[0mnp\u001b[0m\u001b[0;34m.\u001b[0m\u001b[0many\u001b[0m\u001b[0;34m(\u001b[0m\u001b[0mnp\u001b[0m\u001b[0;34m.\u001b[0m\u001b[0mless\u001b[0m\u001b[0;34m(\u001b[0m\u001b[0merr\u001b[0m\u001b[0;34m,\u001b[0m \u001b[0;34m-\u001b[0m\u001b[0merr\u001b[0m\u001b[0;34m,\u001b[0m \u001b[0mout\u001b[0m\u001b[0;34m=\u001b[0m\u001b[0mres\u001b[0m\u001b[0;34m,\u001b[0m \u001b[0mwhere\u001b[0m\u001b[0;34m=\u001b[0m\u001b[0;34m(\u001b[0m\u001b[0merr\u001b[0m \u001b[0;34m==\u001b[0m \u001b[0merr\u001b[0m\u001b[0;34m)\u001b[0m\u001b[0;34m)\u001b[0m\u001b[0;34m)\u001b[0m\u001b[0;34m:\u001b[0m\u001b[0;34m\u001b[0m\u001b[0;34m\u001b[0m\u001b[0m\n\u001b[1;32m   3635\u001b[0m                 \u001b[0;31m# like err<0, but also works for timedelta and nan.\u001b[0m\u001b[0;34m\u001b[0m\u001b[0;34m\u001b[0m\u001b[0;34m\u001b[0m\u001b[0m\n\u001b[0;32m-> 3636\u001b[0;31m                 raise ValueError(\n\u001b[0m\u001b[1;32m   3637\u001b[0m                     f\"'{dep_axis}err' must not contain negative values\")\n\u001b[1;32m   3638\u001b[0m             \u001b[0;31m# This is like\u001b[0m\u001b[0;34m\u001b[0m\u001b[0;34m\u001b[0m\u001b[0;34m\u001b[0m\u001b[0m\n",
      "\u001b[0;31mValueError\u001b[0m: 'yerr' must not contain negative values"
     ]
    },
    {
     "data": {
      "image/png": "[encoded data removed]",
      "text/plain": [
       "<Figure size 432x216 with 1 Axes>"
      ]
     },
     "metadata": {
      "needs_background": "light"
     },
     "output_type": "display_data"
    }
   ],
   "source": [
    "\n",
    "\n",
    "keys_to_plot = [\"Reweight\", \"Generate\", \"Morph\", \"Ideal\"]\n",
    "centers = [1, 2, 3, 4]\n",
    "\n",
    "\n",
    "med_AUC_cr = {\"Reweight\":0.5076248000000001, \n",
    "              \"Generate\":0.5228918224999999, \n",
    "              \"Morph\":0.5156505375, \n",
    "              \"Ideal\":0.5021822775}\n",
    "\n",
    "percentiles_AUC_cr = {\"Reweight\":[0.002117230800000147,0.0024196739999998718 ],   # 16, 84\n",
    "                 \"Generate\":[0.0016749604999999335, 0.0007805363000001897], \n",
    "                 \"Morph\":[0.0011523856999999804,0.0038029032999999934], \n",
    "                 \"Ideal\":[0.0014198759000000338,0.0015919513000000052]}\n",
    "\n",
    "med_AUC_sr = {\"Reweight\":0.5459620575, \n",
    "              \"Generate\":0.5388103325, \n",
    "              \"Morph\":0.5395315249999999, \n",
    "              \"Ideal\":0.5033611425}\n",
    "percentiles_AUC_cr = {\"Reweight\":[0.004365411500000027, 0.004592189899999988], \n",
    "                 \"Generate\":[0.00033419410000001815,0.0014689703000000387], \n",
    "                 \"Morph\":[0.0014989587999999499,0.0005700766000000801], \n",
    "                 \"Ideal\":[0.0013334284999999557,0.0013832219000000645]}\n",
    "\n",
    "\n",
    "plt.figure(figsize = (6, 3))\n",
    "m = 4\n",
    "lw = 1\n",
    "\n",
    "for i, k in enumerate(keys_to_plot):\n",
    "    \n",
    "    # CR\n",
    "    plt.errorbar(centers[i]-0.2, med_AUC_cr[k], yerr = np.array([med_AUC_cr[k]-percentiles_AUC_cr[k][0], percentiles_AUC_cr[k][1]-med_AUC_cr[k]]).reshape(2,1), fmt = \"s\", color = colors_dict[k], markersize = m, elinewidth=lw)\n",
    "    \n",
    "    # SR\n",
    "    plt.errorbar(centers[i]+0.2, med_AUC_sr[k], yerr = [med_AUC_sr[k]-percentiles_AUC_sr[k][0], percentiles_AUC_sr[k][1]-med_AUC_cr[k]], fmt = \"D\", color = colors_dict[k], markersize = m, elinewidth=lw)\n",
    "    \n",
    "    plt.text(centers[i], .45, k, color  = colors_dict[k], fontsize = f1, horizontalalignment = \"center\")\n",
    "\n",
    "plt.xticks([])\n",
    "plt.yticks(np.arange(0.4, 0.65, 0.05))\n",
    "\n",
    "plt.errorbar(-4, -1, fmt = \"s\", color = \"k\", label = \"CR\", markersize = m)\n",
    "plt.errorbar(-4, -1, fmt = \"D\", color = \"k\", label = \"SR\", markersize = m)\n",
    "plt.axhline(0.5, linestyle = \"dashed\", color = \"grey\", lw = 3)\n",
    "\n",
    "\n",
    "plt.legend(frameon = False, fontsize = 12, loc = \"upper right\")\n",
    "\n",
    "plt.xlim([0.5, 4.5])\n",
    "plt.ylim([0.42, 0.58])\n",
    "plt.savefig(\"../plots/aucs_physics.pdf\")\n",
    "\n",
    "plt.show()"
   ]
  },
  {
   "cell_type": "code",
   "execution_count": null,
   "id": "b015ea53-adca-41ff-bd7f-ebcf4d7da088",
   "metadata": {},
   "outputs": [],
   "source": []
  },
  {
   "cell_type": "code",
   "execution_count": null,
   "id": "34fea408-9d53-47b5-8581-18055736655b",
   "metadata": {},
   "outputs": [],
   "source": []
  },
  {
   "cell_type": "code",
   "execution_count": null,
   "id": "51bc1926-b504-411a-b355-c6ac213dc8a6",
   "metadata": {},
   "outputs": [],
   "source": []
  }
 ],
 "metadata": {
  "kernelspec": {
   "display_name": "Python 3 (ipykernel)",
   "language": "python",
   "name": "python3"
  },
  "language_info": {
   "codemirror_mode": {
    "name": "ipython",
    "version": 3
   },
   "file_extension": ".py",
   "mimetype": "text/x-python",
   "name": "python",
   "nbconvert_exporter": "python",
   "pygments_lexer": "ipython3",
   "version": "3.8.5"
  }
 },
 "nbformat": 4,
 "nbformat_minor": 5
}
